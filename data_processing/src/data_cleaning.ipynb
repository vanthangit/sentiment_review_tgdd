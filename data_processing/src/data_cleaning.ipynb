{
 "cells": [
  {
   "cell_type": "code",
   "execution_count": 12,
   "metadata": {},
   "outputs": [],
   "source": [
    "import pandas as pd"
   ]
  },
  {
   "cell_type": "code",
   "execution_count": 13,
   "metadata": {},
   "outputs": [
    {
     "data": {
      "text/html": [
       "<div>\n",
       "<style scoped>\n",
       "    .dataframe tbody tr th:only-of-type {\n",
       "        vertical-align: middle;\n",
       "    }\n",
       "\n",
       "    .dataframe tbody tr th {\n",
       "        vertical-align: top;\n",
       "    }\n",
       "\n",
       "    .dataframe thead th {\n",
       "        text-align: right;\n",
       "    }\n",
       "</style>\n",
       "<table border=\"1\" class=\"dataframe\">\n",
       "  <thead>\n",
       "    <tr style=\"text-align: right;\">\n",
       "      <th></th>\n",
       "      <th>product_name</th>\n",
       "      <th>product_price</th>\n",
       "      <th>review</th>\n",
       "      <th>category</th>\n",
       "    </tr>\n",
       "  </thead>\n",
       "  <tbody>\n",
       "    <tr>\n",
       "      <th>0</th>\n",
       "      <td>Baseus Lipow 22.5W PPJP312 kèm Cáp Lightning v...</td>\n",
       "      <td>590.000₫</td>\n",
       "      <td>Mình mua mẫu này 2 ngày trước. Giờ mình muốn đ...</td>\n",
       "      <td>backup-charger</td>\n",
       "    </tr>\n",
       "    <tr>\n",
       "      <th>1</th>\n",
       "      <td>Xiaomi 22.5W Lite P16ZM</td>\n",
       "      <td>390.000₫</td>\n",
       "      <td>THEGIOIDIDONG bán sản phẩm có nguồn gốc xuất x...</td>\n",
       "      <td>backup-charger</td>\n",
       "    </tr>\n",
       "    <tr>\n",
       "      <th>2</th>\n",
       "      <td>Ugreen 20W PB206</td>\n",
       "      <td>750.000₫</td>\n",
       "      <td>Sạc bằng dây cho iphone thì nhanh . Sạc không ...</td>\n",
       "      <td>backup-charger</td>\n",
       "    </tr>\n",
       "    <tr>\n",
       "      <th>3</th>\n",
       "      <td>Ugreen 20W PB206</td>\n",
       "      <td>750.000₫</td>\n",
       "      <td>Đưa hàng cũ</td>\n",
       "      <td>backup-charger</td>\n",
       "    </tr>\n",
       "    <tr>\n",
       "      <th>4</th>\n",
       "      <td>Ugreen 200W PB722</td>\n",
       "      <td>1.920.000₫</td>\n",
       "      <td>Cho em hỏi sạc max 200w là chia ra 2 cổng type...</td>\n",
       "      <td>backup-charger</td>\n",
       "    </tr>\n",
       "  </tbody>\n",
       "</table>\n",
       "</div>"
      ],
      "text/plain": [
       "                                        product_name product_price  \\\n",
       "0  Baseus Lipow 22.5W PPJP312 kèm Cáp Lightning v...      590.000₫   \n",
       "1                            Xiaomi 22.5W Lite P16ZM      390.000₫   \n",
       "2                                   Ugreen 20W PB206      750.000₫   \n",
       "3                                   Ugreen 20W PB206      750.000₫   \n",
       "4                                  Ugreen 200W PB722    1.920.000₫   \n",
       "\n",
       "                                              review        category  \n",
       "0  Mình mua mẫu này 2 ngày trước. Giờ mình muốn đ...  backup-charger  \n",
       "1  THEGIOIDIDONG bán sản phẩm có nguồn gốc xuất x...  backup-charger  \n",
       "2  Sạc bằng dây cho iphone thì nhanh . Sạc không ...  backup-charger  \n",
       "3                                        Đưa hàng cũ  backup-charger  \n",
       "4  Cho em hỏi sạc max 200w là chia ra 2 cổng type...  backup-charger  "
      ]
     },
     "execution_count": 13,
     "metadata": {},
     "output_type": "execute_result"
    }
   ],
   "source": [
    "df = pd.read_csv('../data/data_integration.csv')\n",
    "df.head()"
   ]
  },
  {
   "cell_type": "code",
   "execution_count": 27,
   "metadata": {},
   "outputs": [
    {
     "name": "stdout",
     "output_type": "stream",
     "text": [
      "<class 'pandas.core.frame.DataFrame'>\n",
      "Index: 24646 entries, 0 to 33763\n",
      "Data columns (total 4 columns):\n",
      " #   Column         Non-Null Count  Dtype \n",
      "---  ------         --------------  ----- \n",
      " 0   product_name   24646 non-null  object\n",
      " 1   product_price  24646 non-null  object\n",
      " 2   review         24646 non-null  object\n",
      " 3   category       24646 non-null  object\n",
      "dtypes: object(4)\n",
      "memory usage: 962.7+ KB\n"
     ]
    }
   ],
   "source": [
    "df.info()"
   ]
  },
  {
   "cell_type": "code",
   "execution_count": 17,
   "metadata": {},
   "outputs": [
    {
     "data": {
      "text/plain": [
       "product_name        0\n",
       "product_price       2\n",
       "review           9117\n",
       "category            0\n",
       "dtype: int64"
      ]
     },
     "execution_count": 17,
     "metadata": {},
     "output_type": "execute_result"
    }
   ],
   "source": [
    "df.isna().sum()"
   ]
  },
  {
   "cell_type": "code",
   "execution_count": 18,
   "metadata": {},
   "outputs": [
    {
     "data": {
      "text/html": [
       "<div>\n",
       "<style scoped>\n",
       "    .dataframe tbody tr th:only-of-type {\n",
       "        vertical-align: middle;\n",
       "    }\n",
       "\n",
       "    .dataframe tbody tr th {\n",
       "        vertical-align: top;\n",
       "    }\n",
       "\n",
       "    .dataframe thead th {\n",
       "        text-align: right;\n",
       "    }\n",
       "</style>\n",
       "<table border=\"1\" class=\"dataframe\">\n",
       "  <thead>\n",
       "    <tr style=\"text-align: right;\">\n",
       "      <th></th>\n",
       "      <th>product_name</th>\n",
       "      <th>product_price</th>\n",
       "      <th>review</th>\n",
       "      <th>category</th>\n",
       "    </tr>\n",
       "  </thead>\n",
       "  <tbody>\n",
       "    <tr>\n",
       "      <th>15</th>\n",
       "      <td>AVA+ 10.5W G-DX258 kèm Cáp Lightning và Cáp Ty...</td>\n",
       "      <td>450.000₫</td>\n",
       "      <td>NaN</td>\n",
       "      <td>backup-charger</td>\n",
       "    </tr>\n",
       "    <tr>\n",
       "      <th>31</th>\n",
       "      <td>Xmobile 22.5W YM-672</td>\n",
       "      <td>510.000₫</td>\n",
       "      <td>NaN</td>\n",
       "      <td>backup-charger</td>\n",
       "    </tr>\n",
       "    <tr>\n",
       "      <th>42</th>\n",
       "      <td>Anker Zolo 30W A1689 kèm Cáp Type C</td>\n",
       "      <td>760.000₫</td>\n",
       "      <td>NaN</td>\n",
       "      <td>backup-charger</td>\n",
       "    </tr>\n",
       "    <tr>\n",
       "      <th>56</th>\n",
       "      <td>Anker 30W A1384 kèm Cáp Type C</td>\n",
       "      <td>715.000₫</td>\n",
       "      <td>NaN</td>\n",
       "      <td>backup-charger</td>\n",
       "    </tr>\n",
       "    <tr>\n",
       "      <th>57</th>\n",
       "      <td>Anker 30W A1384 kèm Cáp Type C</td>\n",
       "      <td>715.000₫</td>\n",
       "      <td>NaN</td>\n",
       "      <td>backup-charger</td>\n",
       "    </tr>\n",
       "    <tr>\n",
       "      <th>...</th>\n",
       "      <td>...</td>\n",
       "      <td>...</td>\n",
       "      <td>...</td>\n",
       "      <td>...</td>\n",
       "    </tr>\n",
       "    <tr>\n",
       "      <th>33728</th>\n",
       "      <td>Loa Bluetooth Mozard BT100</td>\n",
       "      <td>1.790.000₫</td>\n",
       "      <td>NaN</td>\n",
       "      <td>spreaker</td>\n",
       "    </tr>\n",
       "    <tr>\n",
       "      <th>33729</th>\n",
       "      <td>Loa Bluetooth Mozard BT100</td>\n",
       "      <td>1.790.000₫</td>\n",
       "      <td>NaN</td>\n",
       "      <td>spreaker</td>\n",
       "    </tr>\n",
       "    <tr>\n",
       "      <th>33756</th>\n",
       "      <td>Loa karaoke Mobell MK - 4960A</td>\n",
       "      <td>4.890.000₫</td>\n",
       "      <td>NaN</td>\n",
       "      <td>spreaker</td>\n",
       "    </tr>\n",
       "    <tr>\n",
       "      <th>33758</th>\n",
       "      <td>Loa karaoke Mobell MK-4260A</td>\n",
       "      <td>3.800.000₫</td>\n",
       "      <td>NaN</td>\n",
       "      <td>spreaker</td>\n",
       "    </tr>\n",
       "    <tr>\n",
       "      <th>33764</th>\n",
       "      <td>Loa Bluetooth JBL Xtreme 4</td>\n",
       "      <td>7.590.000₫</td>\n",
       "      <td>NaN</td>\n",
       "      <td>spreaker</td>\n",
       "    </tr>\n",
       "  </tbody>\n",
       "</table>\n",
       "<p>9119 rows × 4 columns</p>\n",
       "</div>"
      ],
      "text/plain": [
       "                                            product_name product_price review  \\\n",
       "15     AVA+ 10.5W G-DX258 kèm Cáp Lightning và Cáp Ty...      450.000₫    NaN   \n",
       "31                                  Xmobile 22.5W YM-672      510.000₫    NaN   \n",
       "42                   Anker Zolo 30W A1689 kèm Cáp Type C      760.000₫    NaN   \n",
       "56                        Anker 30W A1384 kèm Cáp Type C      715.000₫    NaN   \n",
       "57                        Anker 30W A1384 kèm Cáp Type C      715.000₫    NaN   \n",
       "...                                                  ...           ...    ...   \n",
       "33728                         Loa Bluetooth Mozard BT100    1.790.000₫    NaN   \n",
       "33729                         Loa Bluetooth Mozard BT100    1.790.000₫    NaN   \n",
       "33756                      Loa karaoke Mobell MK - 4960A    4.890.000₫    NaN   \n",
       "33758                        Loa karaoke Mobell MK-4260A    3.800.000₫    NaN   \n",
       "33764                         Loa Bluetooth JBL Xtreme 4    7.590.000₫    NaN   \n",
       "\n",
       "             category  \n",
       "15     backup-charger  \n",
       "31     backup-charger  \n",
       "42     backup-charger  \n",
       "56     backup-charger  \n",
       "57     backup-charger  \n",
       "...               ...  \n",
       "33728        spreaker  \n",
       "33729        spreaker  \n",
       "33756        spreaker  \n",
       "33758        spreaker  \n",
       "33764        spreaker  \n",
       "\n",
       "[9119 rows x 4 columns]"
      ]
     },
     "execution_count": 18,
     "metadata": {},
     "output_type": "execute_result"
    }
   ],
   "source": [
    "df[df.isna().any(axis=1)]"
   ]
  },
  {
   "cell_type": "code",
   "execution_count": 25,
   "metadata": {},
   "outputs": [],
   "source": [
    "df.dropna(inplace=True)"
   ]
  },
  {
   "cell_type": "code",
   "execution_count": 26,
   "metadata": {},
   "outputs": [
    {
     "data": {
      "text/plain": [
       "product_name     0\n",
       "product_price    0\n",
       "review           0\n",
       "category         0\n",
       "dtype: int64"
      ]
     },
     "execution_count": 26,
     "metadata": {},
     "output_type": "execute_result"
    }
   ],
   "source": [
    "df.isna().sum()"
   ]
  },
  {
   "cell_type": "code",
   "execution_count": 31,
   "metadata": {},
   "outputs": [
    {
     "data": {
      "text/plain": [
       "np.int64(5883)"
      ]
     },
     "execution_count": 31,
     "metadata": {},
     "output_type": "execute_result"
    }
   ],
   "source": [
    "df.duplicated().sum()"
   ]
  },
  {
   "cell_type": "code",
   "execution_count": 32,
   "metadata": {},
   "outputs": [],
   "source": [
    "df.drop_duplicates(keep='first', inplace=True)"
   ]
  },
  {
   "cell_type": "code",
   "execution_count": 33,
   "metadata": {},
   "outputs": [
    {
     "data": {
      "text/plain": [
       "np.int64(0)"
      ]
     },
     "execution_count": 33,
     "metadata": {},
     "output_type": "execute_result"
    }
   ],
   "source": [
    "df.duplicated().sum()"
   ]
  },
  {
   "cell_type": "code",
   "execution_count": 34,
   "metadata": {},
   "outputs": [],
   "source": [
    "df.to_csv(\"../data/data_cleaned.csv\", index=False)"
   ]
  }
 ],
 "metadata": {
  "kernelspec": {
   "display_name": "py39webcrawl",
   "language": "python",
   "name": "python3"
  },
  "language_info": {
   "codemirror_mode": {
    "name": "ipython",
    "version": 3
   },
   "file_extension": ".py",
   "mimetype": "text/x-python",
   "name": "python",
   "nbconvert_exporter": "python",
   "pygments_lexer": "ipython3",
   "version": "3.9.21"
  }
 },
 "nbformat": 4,
 "nbformat_minor": 2
}
