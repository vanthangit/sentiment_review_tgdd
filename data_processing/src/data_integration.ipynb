{
 "cells": [
  {
   "cell_type": "code",
   "execution_count": 10,
   "metadata": {},
   "outputs": [],
   "source": [
    "import pandas as pd\n",
    "import glob\n",
    "import os"
   ]
  },
  {
   "cell_type": "code",
   "execution_count": 11,
   "metadata": {},
   "outputs": [],
   "source": [
    "file_list = glob.glob(\"../../data_crawl/cmt_*.csv\")\n",
    "\n",
    "df_list = []\n",
    "for file in file_list:\n",
    "    filename = os.path.basename(file)\n",
    "    category = filename.split(\"_\")[1].split(\".\")[0]\n",
    "    df = pd.read_csv(file)\n",
    "    df[\"category\"] = category\n",
    "    df_list.append(df)\n",
    "\n",
    "df_merged = pd.concat(df_list, ignore_index=True)\n",
    "df_merged.to_csv(\"../data/data_integration.csv\", index=False)\n"
   ]
  }
 ],
 "metadata": {
  "kernelspec": {
   "display_name": "py39webcrawl",
   "language": "python",
   "name": "python3"
  },
  "language_info": {
   "codemirror_mode": {
    "name": "ipython",
    "version": 3
   },
   "file_extension": ".py",
   "mimetype": "text/x-python",
   "name": "python",
   "nbconvert_exporter": "python",
   "pygments_lexer": "ipython3",
   "version": "3.9.21"
  }
 },
 "nbformat": 4,
 "nbformat_minor": 2
}
