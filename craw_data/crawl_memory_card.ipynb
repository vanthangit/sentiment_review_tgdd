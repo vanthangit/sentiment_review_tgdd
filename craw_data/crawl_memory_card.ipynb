{
 "cells": [
  {
   "cell_type": "code",
   "execution_count": 1,
   "metadata": {},
   "outputs": [],
   "source": [
    "from selenium import webdriver\n",
    "from selenium.webdriver.common.by import By\n",
    "from selenium.webdriver.common.action_chains import ActionChains, ScrollOrigin\n",
    "import pandas as pd\n",
    "from time import sleep"
   ]
  },
  {
   "cell_type": "code",
   "execution_count": 2,
   "metadata": {},
   "outputs": [],
   "source": [
    "url = 'https://www.thegioididong.com/the-nho-dien-thoai'\n",
    "\n",
    "driver = webdriver.Chrome()\n",
    "driver.get(url)"
   ]
  },
  {
   "cell_type": "markdown",
   "metadata": {},
   "source": [
    "### Hiển thị tất cả sản phẩm"
   ]
  },
  {
   "cell_type": "code",
   "execution_count": 3,
   "metadata": {},
   "outputs": [
    {
     "data": {
      "text/plain": [
       "<selenium.webdriver.remote.webelement.WebElement (session=\"6925485afae1b5b1a944a0cd1ebb9c79\", element=\"f.67E07BF121A24EFA1A412CE255BCB652.d.EDCCA5255A58F7748F54384D04E48860.e.156\")>"
      ]
     },
     "execution_count": 3,
     "metadata": {},
     "output_type": "execute_result"
    }
   ],
   "source": [
    "show_more_elm = driver.find_element(By.XPATH, '//*[@id=\"categoryPage\"]/div[1]/div[2]/a')\n",
    "show_more_elm"
   ]
  },
  {
   "cell_type": "code",
   "execution_count": 4,
   "metadata": {},
   "outputs": [
    {
     "name": "stdout",
     "output_type": "stream",
     "text": [
      "We are at the end of the page!\n"
     ]
    }
   ],
   "source": [
    "while True:\n",
    "    try:\n",
    "        show_more_elm.click()\n",
    "        sleep(2)\n",
    "    except:\n",
    "        print('We are at the end of the page!')\n",
    "        break"
   ]
  },
  {
   "cell_type": "markdown",
   "metadata": {},
   "source": [
    "### Lấy danh sách sản phẩm"
   ]
  },
  {
   "cell_type": "code",
   "execution_count": 5,
   "metadata": {},
   "outputs": [
    {
     "data": {
      "text/plain": [
       "16"
      ]
     },
     "execution_count": 5,
     "metadata": {},
     "output_type": "execute_result"
    }
   ],
   "source": [
    "listproduct_elm = driver.find_element(By.CLASS_NAME, 'listproduct')\n",
    "product_list = listproduct_elm.find_elements(By.CLASS_NAME, 'item')\n",
    "len(product_list)"
   ]
  },
  {
   "cell_type": "markdown",
   "metadata": {},
   "source": [
    "#### Tạo Func lấy thông 1 tin sản phẩm"
   ]
  },
  {
   "cell_type": "code",
   "execution_count": 6,
   "metadata": {},
   "outputs": [],
   "source": [
    "def get_product_info(product_elm):\n",
    "    phone_name = product_elm.find_element(By.XPATH, './/h3').text\n",
    "\n",
    "    try:\n",
    "        phone_price = product_elm.find_element(By.XPATH, './/strong[@class=\"price\"]').text\n",
    "    except:\n",
    "        phone_price = \"N/A\"\n",
    "\n",
    "    result = {\n",
    "        'name': phone_name,\n",
    "        'price': phone_price\n",
    "    }\n",
    "    return result"
   ]
  },
  {
   "cell_type": "code",
   "execution_count": 7,
   "metadata": {},
   "outputs": [],
   "source": [
    "# Hàm lấy review của tất cả điện thoại\n",
    "all_reviews = []\n",
    "tmp = 0\n",
    "def getReviewAllTheNho(product_list):\n",
    "    for i in range(0, len(product_list)):\n",
    "        product_info = get_product_info(product_list[i])\n",
    "        product_list[i].click()\n",
    "        sleep(2)\n",
    "\n",
    "        try:\n",
    "            # Nếu mà có readmore thì mình bấm luôn\n",
    "            try:\n",
    "                read_more_elm = driver.find_element(By.XPATH, '/html/body/section/div[2]/div[1]/div[9]/div[2]/div/div/div[6]/div/a')\n",
    "            except:\n",
    "                read_more_elm = driver.find_element(By.XPATH, '/html/body/section/div[2]/div[1]/div[11]/div[2]/div/div/div[6]/div/a')\n",
    "            if read_more_elm:\n",
    "                read_more_elm.click()\n",
    "                sleep(2)\n",
    "\n",
    "                while True:\n",
    "                    reviews = driver.find_elements(By.CLASS_NAME, 'cmt-txt')\n",
    "                    for review in reviews:\n",
    "                        all_reviews.append({\n",
    "                            'product_name': product_info['name'],\n",
    "                            'product_price': product_info['price'],\n",
    "                            'review': review.text\n",
    "                        })\n",
    "\n",
    "                    try:\n",
    "                        page_elm = driver.find_element(By.CLASS_NAME, 'pagcomment')\n",
    "                        list_page = page_elm.find_elements(By.XPATH, './/a')\n",
    "\n",
    "                        next_page = None # Init var\n",
    "                        for page in list_page:\n",
    "                            if page.text.strip() == \"»\" or page.text.strip() == \"›\":\n",
    "                                next_page = page\n",
    "                                break\n",
    "\n",
    "                        if next_page: # if next_page exist\n",
    "                            next_page.click() # forward\n",
    "                            sleep(2)\n",
    "                        else:\n",
    "                            last_page = list_page[-1]\n",
    "                            last_page.click()\n",
    "                            sleep(2)\n",
    "                            # Lấy xong hết review của trang cuối cùng của sản phẩm\n",
    "                            reviews = driver.find_elements(By.CLASS_NAME, 'cmt-txt')\n",
    "                            for review in reviews:\n",
    "                                all_reviews.append({\n",
    "                                    'product_name': product_info['name'],\n",
    "                                    'product_price': product_info['price'],\n",
    "                                    'review': review.text\n",
    "                                })\n",
    "                            driver.back()\n",
    "                            driver.back()\n",
    "                            sleep(2)\n",
    "                            break\n",
    "                    except:\n",
    "                        print(\"Không còn trang tiếp theo!\")\n",
    "                        driver.back()\n",
    "                        driver.back()\n",
    "                        sleep(2)\n",
    "                        break\n",
    "        except:\n",
    "\n",
    "            # Nếu có review nhưng chỉ có ===>> 1 TRANG\n",
    "            reviews = driver.find_elements(By.CLASS_NAME, 'cmt-txt')\n",
    "            for review in reviews:\n",
    "                all_reviews.append({\n",
    "                    'product_name': product_info['name'],\n",
    "                    'product_price': product_info['price'],\n",
    "                    'review': review.text\n",
    "                })\n",
    "            \n",
    "            # Lấy xong thì back về\n",
    "            driver.back()\n",
    "            sleep(2)\n",
    "            listproduct_elm = driver.find_element(By.CLASS_NAME, 'listproduct')\n",
    "            product_list = listproduct_elm.find_elements(By.CLASS_NAME, 'item')"
   ]
  },
  {
   "cell_type": "code",
   "execution_count": 8,
   "metadata": {},
   "outputs": [
    {
     "name": "stdout",
     "output_type": "stream",
     "text": [
      "Không còn trang tiếp theo!\n",
      "Không còn trang tiếp theo!\n",
      "Không còn trang tiếp theo!\n",
      "Không còn trang tiếp theo!\n",
      "Không còn trang tiếp theo!\n",
      "Không còn trang tiếp theo!\n"
     ]
    }
   ],
   "source": [
    "getReviewAllTheNho(product_list)"
   ]
  },
  {
   "cell_type": "code",
   "execution_count": 9,
   "metadata": {},
   "outputs": [],
   "source": [
    "df = pd.DataFrame(all_reviews)\n",
    "df.to_csv('D:\\CrawlData\\Sentiment_Review\\data\\cmt_the_nho.csv', index=False)"
   ]
  }
 ],
 "metadata": {
  "kernelspec": {
   "display_name": "py39webcrawl",
   "language": "python",
   "name": "python3"
  },
  "language_info": {
   "codemirror_mode": {
    "name": "ipython",
    "version": 3
   },
   "file_extension": ".py",
   "mimetype": "text/x-python",
   "name": "python",
   "nbconvert_exporter": "python",
   "pygments_lexer": "ipython3",
   "version": "3.9.21"
  }
 },
 "nbformat": 4,
 "nbformat_minor": 2
}
