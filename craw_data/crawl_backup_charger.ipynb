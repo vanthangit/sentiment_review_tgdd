{
 "cells": [
  {
   "cell_type": "code",
   "execution_count": 19,
   "metadata": {},
   "outputs": [],
   "source": [
    "from selenium import webdriver\n",
    "from selenium.webdriver.common.by import By\n",
    "from selenium.webdriver.common.action_chains import ActionChains, ScrollOrigin\n",
    "import pandas as pd\n",
    "from time import sleep"
   ]
  },
  {
   "cell_type": "code",
   "execution_count": 20,
   "metadata": {},
   "outputs": [],
   "source": [
    "url = 'https://www.thegioididong.com/sac-dtdd'\n",
    "\n",
    "driver = webdriver.Chrome()\n",
    "driver.get(url)"
   ]
  },
  {
   "cell_type": "markdown",
   "metadata": {},
   "source": [
    "### Hiển thị tất cả sản phẩm"
   ]
  },
  {
   "cell_type": "code",
   "execution_count": 21,
   "metadata": {},
   "outputs": [
    {
     "data": {
      "text/plain": [
       "<selenium.webdriver.remote.webelement.WebElement (session=\"47a68cb0f6f433d756977a588753f3e9\", element=\"f.CC57D641897AA37F4A02343D26CA2EFD.d.1C58F64D962ECC9B629792839959BE8F.e.105\")>"
      ]
     },
     "execution_count": 21,
     "metadata": {},
     "output_type": "execute_result"
    }
   ],
   "source": [
    "show_more_elm = driver.find_element(By.XPATH, '//*[@id=\"categoryPage\"]/div[1]/div[2]/a')\n",
    "show_more_elm"
   ]
  },
  {
   "cell_type": "code",
   "execution_count": 22,
   "metadata": {},
   "outputs": [
    {
     "name": "stdout",
     "output_type": "stream",
     "text": [
      "We are at the end of the page!\n"
     ]
    }
   ],
   "source": [
    "while True:\n",
    "    try:\n",
    "        show_more_elm.click()\n",
    "        sleep(2)\n",
    "    except:\n",
    "        print('We are at the end of the page!')\n",
    "        break"
   ]
  },
  {
   "cell_type": "markdown",
   "metadata": {},
   "source": [
    "### Lấy danh sách sản phẩm"
   ]
  },
  {
   "cell_type": "code",
   "execution_count": 23,
   "metadata": {},
   "outputs": [
    {
     "data": {
      "text/plain": [
       "72"
      ]
     },
     "execution_count": 23,
     "metadata": {},
     "output_type": "execute_result"
    }
   ],
   "source": [
    "listproduct_elm = driver.find_element(By.CLASS_NAME, 'listproduct')\n",
    "product_list = listproduct_elm.find_elements(By.CLASS_NAME, 'item')\n",
    "len(product_list)"
   ]
  },
  {
   "cell_type": "markdown",
   "metadata": {},
   "source": [
    "#### Tạo Func lấy thông 1 tin sản phẩm"
   ]
  },
  {
   "cell_type": "code",
   "execution_count": 24,
   "metadata": {},
   "outputs": [],
   "source": [
    "def get_product_info(product_elm):\n",
    "    phone_name = product_elm.find_element(By.XPATH, './/h3').text\n",
    "\n",
    "    try:\n",
    "        phone_price = product_elm.find_element(By.XPATH, './/strong[@class=\"price\"]').text\n",
    "    except:\n",
    "        phone_price = \"N/A\"\n",
    "\n",
    "    result = {\n",
    "        'name': phone_name,\n",
    "        'price': phone_price\n",
    "    }\n",
    "    return result"
   ]
  },
  {
   "cell_type": "code",
   "execution_count": 37,
   "metadata": {},
   "outputs": [],
   "source": [
    "# Hàm lấy review của tất cả điện thoại\n",
    "all_reviews = []\n",
    "tmp = 0\n",
    "def getReviewAll(product_list):\n",
    "    for i in range(65, len(product_list)):\n",
    "        product_info = get_product_info(product_list[i])\n",
    "        product_list[i].click()\n",
    "        sleep(2)\n",
    "\n",
    "        try:\n",
    "            # Nếu mà có readmore thì mình bấm luôn\n",
    "            try:\n",
    "                read_more_elm = driver.find_element(By.XPATH, '/html/body/section/div[2]/div[1]/div[9]/div[2]/div/div/div[6]/div/a')\n",
    "            except:\n",
    "                read_more_elm = driver.find_element(By.XPATH, '/html/body/section/div[2]/div[1]/div[11]/div[2]/div/div/div[6]/div/a')\n",
    "            if read_more_elm:\n",
    "                read_more_elm.click()\n",
    "                sleep(2)\n",
    "\n",
    "                while True:\n",
    "                    reviews = driver.find_elements(By.CLASS_NAME, 'cmt-txt')\n",
    "                    for review in reviews:\n",
    "                        all_reviews.append({\n",
    "                            'product_name': product_info['name'],\n",
    "                            'product_price': product_info['price'],\n",
    "                            'review': review.text\n",
    "                        })\n",
    "\n",
    "                    try:\n",
    "                        page_elm = driver.find_element(By.CLASS_NAME, 'pagcomment')\n",
    "                        list_page = page_elm.find_elements(By.XPATH, './/a')\n",
    "\n",
    "                        next_page = None # Init var\n",
    "                        for page in list_page:\n",
    "                            if page.text.strip() == \"»\" or page.text.strip() == \"›\":\n",
    "                                next_page = page\n",
    "                                break\n",
    "\n",
    "                        if next_page: # if next_page exist\n",
    "                            next_page.click() # forward\n",
    "                            sleep(3)\n",
    "                        else:\n",
    "                            last_page = list_page[-1]\n",
    "                            last_page.click()\n",
    "                            sleep(3)\n",
    "                            # Lấy xong hết review của trang cuối cùng của sản phẩm\n",
    "                            reviews = driver.find_elements(By.CLASS_NAME, 'cmt-txt')\n",
    "                            for review in reviews:\n",
    "                                all_reviews.append({\n",
    "                                    'product_name': product_info['name'],\n",
    "                                    'product_price': product_info['price'],\n",
    "                                    'review': review.text\n",
    "                                })\n",
    "                            driver.back()\n",
    "                            driver.back()\n",
    "                            sleep(3)\n",
    "                            break\n",
    "                    except:\n",
    "                        print(\"Không còn trang tiếp theo!\")\n",
    "                        driver.back()\n",
    "                        driver.back()\n",
    "                        sleep(2)\n",
    "                        break\n",
    "        except:\n",
    "\n",
    "            # Nếu có review nhưng chỉ có ===>> 1 TRANG\n",
    "            reviews = driver.find_elements(By.CLASS_NAME, 'cmt-txt')\n",
    "            for review in reviews:\n",
    "                all_reviews.append({\n",
    "                    'product_name': product_info['name'],\n",
    "                    'product_price': product_info['price'],\n",
    "                    'review': review.text\n",
    "                })\n",
    "            \n",
    "            # Lấy xong thì back về\n",
    "            driver.back()\n",
    "            sleep(2)\n",
    "            listproduct_elm = driver.find_element(By.CLASS_NAME, 'listproduct')\n",
    "            product_list = listproduct_elm.find_elements(By.CLASS_NAME, 'item')"
   ]
  },
  {
   "cell_type": "code",
   "execution_count": 38,
   "metadata": {},
   "outputs": [
    {
     "ename": "NoSuchElementException",
     "evalue": "Message: no such element: Unable to locate element: {\"method\":\"css selector\",\"selector\":\".listproduct\"}\n  (Session info: chrome=134.0.6998.118); For documentation on this error, please visit: https://www.selenium.dev/documentation/webdriver/troubleshooting/errors#no-such-element-exception\nStacktrace:\n\tGetHandleVerifier [0x00007FF79DEF4C25+3179557]\n\t(No symbol) [0x00007FF79DB588A0]\n\t(No symbol) [0x00007FF79D9E91CA]\n\t(No symbol) [0x00007FF79DA3FA67]\n\t(No symbol) [0x00007FF79DA3FC9C]\n\t(No symbol) [0x00007FF79DA93627]\n\t(No symbol) [0x00007FF79DA67C6F]\n\t(No symbol) [0x00007FF79DA902F3]\n\t(No symbol) [0x00007FF79DA67A03]\n\t(No symbol) [0x00007FF79DA306D0]\n\t(No symbol) [0x00007FF79DA31983]\n\tGetHandleVerifier [0x00007FF79DF567CD+3579853]\n\tGetHandleVerifier [0x00007FF79DF6D1D2+3672530]\n\tGetHandleVerifier [0x00007FF79DF62153+3627347]\n\tGetHandleVerifier [0x00007FF79DCC092A+868650]\n\t(No symbol) [0x00007FF79DB62FFF]\n\t(No symbol) [0x00007FF79DB5F4A4]\n\t(No symbol) [0x00007FF79DB5F646]\n\t(No symbol) [0x00007FF79DB4EAA9]\n\tBaseThreadInitThunk [0x00007FF9A047E8D7+23]\n\tRtlUserThreadStart [0x00007FF9A111BF6C+44]\n",
     "output_type": "error",
     "traceback": [
      "\u001b[1;31m---------------------------------------------------------------------------\u001b[0m",
      "\u001b[1;31mNoSuchElementException\u001b[0m                    Traceback (most recent call last)",
      "Cell \u001b[1;32mIn[37], line 13\u001b[0m, in \u001b[0;36mgetReviewAll\u001b[1;34m(product_list)\u001b[0m\n\u001b[0;32m     12\u001b[0m \u001b[38;5;28;01mtry\u001b[39;00m:\n\u001b[1;32m---> 13\u001b[0m     read_more_elm \u001b[38;5;241m=\u001b[39m \u001b[43mdriver\u001b[49m\u001b[38;5;241;43m.\u001b[39;49m\u001b[43mfind_element\u001b[49m\u001b[43m(\u001b[49m\u001b[43mBy\u001b[49m\u001b[38;5;241;43m.\u001b[39;49m\u001b[43mXPATH\u001b[49m\u001b[43m,\u001b[49m\u001b[43m \u001b[49m\u001b[38;5;124;43m'\u001b[39;49m\u001b[38;5;124;43m/html/body/section/div[2]/div[1]/div[9]/div[2]/div/div/div[6]/div/a\u001b[39;49m\u001b[38;5;124;43m'\u001b[39;49m\u001b[43m)\u001b[49m\n\u001b[0;32m     14\u001b[0m \u001b[38;5;28;01mexcept\u001b[39;00m:\n",
      "File \u001b[1;32mc:\\Users\\FPTSHOP\\anaconda3\\envs\\py39webcrawl\\lib\\site-packages\\selenium\\webdriver\\remote\\webdriver.py:898\u001b[0m, in \u001b[0;36mWebDriver.find_element\u001b[1;34m(self, by, value)\u001b[0m\n\u001b[0;32m    896\u001b[0m     \u001b[38;5;28;01mreturn\u001b[39;00m elements[\u001b[38;5;241m0\u001b[39m]\n\u001b[1;32m--> 898\u001b[0m \u001b[38;5;28;01mreturn\u001b[39;00m \u001b[38;5;28;43mself\u001b[39;49m\u001b[38;5;241;43m.\u001b[39;49m\u001b[43mexecute\u001b[49m\u001b[43m(\u001b[49m\u001b[43mCommand\u001b[49m\u001b[38;5;241;43m.\u001b[39;49m\u001b[43mFIND_ELEMENT\u001b[49m\u001b[43m,\u001b[49m\u001b[43m \u001b[49m\u001b[43m{\u001b[49m\u001b[38;5;124;43m\"\u001b[39;49m\u001b[38;5;124;43musing\u001b[39;49m\u001b[38;5;124;43m\"\u001b[39;49m\u001b[43m:\u001b[49m\u001b[43m \u001b[49m\u001b[43mby\u001b[49m\u001b[43m,\u001b[49m\u001b[43m \u001b[49m\u001b[38;5;124;43m\"\u001b[39;49m\u001b[38;5;124;43mvalue\u001b[39;49m\u001b[38;5;124;43m\"\u001b[39;49m\u001b[43m:\u001b[49m\u001b[43m \u001b[49m\u001b[43mvalue\u001b[49m\u001b[43m}\u001b[49m\u001b[43m)\u001b[49m[\u001b[38;5;124m\"\u001b[39m\u001b[38;5;124mvalue\u001b[39m\u001b[38;5;124m\"\u001b[39m]\n",
      "File \u001b[1;32mc:\\Users\\FPTSHOP\\anaconda3\\envs\\py39webcrawl\\lib\\site-packages\\selenium\\webdriver\\remote\\webdriver.py:429\u001b[0m, in \u001b[0;36mWebDriver.execute\u001b[1;34m(self, driver_command, params)\u001b[0m\n\u001b[0;32m    428\u001b[0m \u001b[38;5;28;01mif\u001b[39;00m response:\n\u001b[1;32m--> 429\u001b[0m     \u001b[38;5;28;43mself\u001b[39;49m\u001b[38;5;241;43m.\u001b[39;49m\u001b[43merror_handler\u001b[49m\u001b[38;5;241;43m.\u001b[39;49m\u001b[43mcheck_response\u001b[49m\u001b[43m(\u001b[49m\u001b[43mresponse\u001b[49m\u001b[43m)\u001b[49m\n\u001b[0;32m    430\u001b[0m     response[\u001b[38;5;124m\"\u001b[39m\u001b[38;5;124mvalue\u001b[39m\u001b[38;5;124m\"\u001b[39m] \u001b[38;5;241m=\u001b[39m \u001b[38;5;28mself\u001b[39m\u001b[38;5;241m.\u001b[39m_unwrap_value(response\u001b[38;5;241m.\u001b[39mget(\u001b[38;5;124m\"\u001b[39m\u001b[38;5;124mvalue\u001b[39m\u001b[38;5;124m\"\u001b[39m, \u001b[38;5;28;01mNone\u001b[39;00m))\n",
      "File \u001b[1;32mc:\\Users\\FPTSHOP\\anaconda3\\envs\\py39webcrawl\\lib\\site-packages\\selenium\\webdriver\\remote\\errorhandler.py:232\u001b[0m, in \u001b[0;36mErrorHandler.check_response\u001b[1;34m(self, response)\u001b[0m\n\u001b[0;32m    231\u001b[0m     \u001b[38;5;28;01mraise\u001b[39;00m exception_class(message, screen, stacktrace, alert_text)  \u001b[38;5;66;03m# type: ignore[call-arg]  # mypy is not smart enough here\u001b[39;00m\n\u001b[1;32m--> 232\u001b[0m \u001b[38;5;28;01mraise\u001b[39;00m exception_class(message, screen, stacktrace)\n",
      "\u001b[1;31mNoSuchElementException\u001b[0m: Message: no such element: Unable to locate element: {\"method\":\"xpath\",\"selector\":\"/html/body/section/div[2]/div[1]/div[9]/div[2]/div/div/div[6]/div/a\"}\n  (Session info: chrome=134.0.6998.118); For documentation on this error, please visit: https://www.selenium.dev/documentation/webdriver/troubleshooting/errors#no-such-element-exception\nStacktrace:\n\tGetHandleVerifier [0x00007FF79DEF4C25+3179557]\n\t(No symbol) [0x00007FF79DB588A0]\n\t(No symbol) [0x00007FF79D9E91CA]\n\t(No symbol) [0x00007FF79DA3FA67]\n\t(No symbol) [0x00007FF79DA3FC9C]\n\t(No symbol) [0x00007FF79DA93627]\n\t(No symbol) [0x00007FF79DA67C6F]\n\t(No symbol) [0x00007FF79DA902F3]\n\t(No symbol) [0x00007FF79DA67A03]\n\t(No symbol) [0x00007FF79DA306D0]\n\t(No symbol) [0x00007FF79DA31983]\n\tGetHandleVerifier [0x00007FF79DF567CD+3579853]\n\tGetHandleVerifier [0x00007FF79DF6D1D2+3672530]\n\tGetHandleVerifier [0x00007FF79DF62153+3627347]\n\tGetHandleVerifier [0x00007FF79DCC092A+868650]\n\t(No symbol) [0x00007FF79DB62FFF]\n\t(No symbol) [0x00007FF79DB5F4A4]\n\t(No symbol) [0x00007FF79DB5F646]\n\t(No symbol) [0x00007FF79DB4EAA9]\n\tBaseThreadInitThunk [0x00007FF9A047E8D7+23]\n\tRtlUserThreadStart [0x00007FF9A111BF6C+44]\n",
      "\nDuring handling of the above exception, another exception occurred:\n",
      "\u001b[1;31mNoSuchElementException\u001b[0m                    Traceback (most recent call last)",
      "Cell \u001b[1;32mIn[37], line 15\u001b[0m, in \u001b[0;36mgetReviewAll\u001b[1;34m(product_list)\u001b[0m\n\u001b[0;32m     14\u001b[0m \u001b[38;5;28;01mexcept\u001b[39;00m:\n\u001b[1;32m---> 15\u001b[0m     read_more_elm \u001b[38;5;241m=\u001b[39m \u001b[43mdriver\u001b[49m\u001b[38;5;241;43m.\u001b[39;49m\u001b[43mfind_element\u001b[49m\u001b[43m(\u001b[49m\u001b[43mBy\u001b[49m\u001b[38;5;241;43m.\u001b[39;49m\u001b[43mXPATH\u001b[49m\u001b[43m,\u001b[49m\u001b[43m \u001b[49m\u001b[38;5;124;43m'\u001b[39;49m\u001b[38;5;124;43m/html/body/section/div[2]/div[1]/div[11]/div[2]/div/div/div[6]/div/a\u001b[39;49m\u001b[38;5;124;43m'\u001b[39;49m\u001b[43m)\u001b[49m\n\u001b[0;32m     16\u001b[0m \u001b[38;5;28;01mif\u001b[39;00m read_more_elm:\n",
      "File \u001b[1;32mc:\\Users\\FPTSHOP\\anaconda3\\envs\\py39webcrawl\\lib\\site-packages\\selenium\\webdriver\\remote\\webdriver.py:898\u001b[0m, in \u001b[0;36mWebDriver.find_element\u001b[1;34m(self, by, value)\u001b[0m\n\u001b[0;32m    896\u001b[0m     \u001b[38;5;28;01mreturn\u001b[39;00m elements[\u001b[38;5;241m0\u001b[39m]\n\u001b[1;32m--> 898\u001b[0m \u001b[38;5;28;01mreturn\u001b[39;00m \u001b[38;5;28;43mself\u001b[39;49m\u001b[38;5;241;43m.\u001b[39;49m\u001b[43mexecute\u001b[49m\u001b[43m(\u001b[49m\u001b[43mCommand\u001b[49m\u001b[38;5;241;43m.\u001b[39;49m\u001b[43mFIND_ELEMENT\u001b[49m\u001b[43m,\u001b[49m\u001b[43m \u001b[49m\u001b[43m{\u001b[49m\u001b[38;5;124;43m\"\u001b[39;49m\u001b[38;5;124;43musing\u001b[39;49m\u001b[38;5;124;43m\"\u001b[39;49m\u001b[43m:\u001b[49m\u001b[43m \u001b[49m\u001b[43mby\u001b[49m\u001b[43m,\u001b[49m\u001b[43m \u001b[49m\u001b[38;5;124;43m\"\u001b[39;49m\u001b[38;5;124;43mvalue\u001b[39;49m\u001b[38;5;124;43m\"\u001b[39;49m\u001b[43m:\u001b[49m\u001b[43m \u001b[49m\u001b[43mvalue\u001b[49m\u001b[43m}\u001b[49m\u001b[43m)\u001b[49m[\u001b[38;5;124m\"\u001b[39m\u001b[38;5;124mvalue\u001b[39m\u001b[38;5;124m\"\u001b[39m]\n",
      "File \u001b[1;32mc:\\Users\\FPTSHOP\\anaconda3\\envs\\py39webcrawl\\lib\\site-packages\\selenium\\webdriver\\remote\\webdriver.py:429\u001b[0m, in \u001b[0;36mWebDriver.execute\u001b[1;34m(self, driver_command, params)\u001b[0m\n\u001b[0;32m    428\u001b[0m \u001b[38;5;28;01mif\u001b[39;00m response:\n\u001b[1;32m--> 429\u001b[0m     \u001b[38;5;28;43mself\u001b[39;49m\u001b[38;5;241;43m.\u001b[39;49m\u001b[43merror_handler\u001b[49m\u001b[38;5;241;43m.\u001b[39;49m\u001b[43mcheck_response\u001b[49m\u001b[43m(\u001b[49m\u001b[43mresponse\u001b[49m\u001b[43m)\u001b[49m\n\u001b[0;32m    430\u001b[0m     response[\u001b[38;5;124m\"\u001b[39m\u001b[38;5;124mvalue\u001b[39m\u001b[38;5;124m\"\u001b[39m] \u001b[38;5;241m=\u001b[39m \u001b[38;5;28mself\u001b[39m\u001b[38;5;241m.\u001b[39m_unwrap_value(response\u001b[38;5;241m.\u001b[39mget(\u001b[38;5;124m\"\u001b[39m\u001b[38;5;124mvalue\u001b[39m\u001b[38;5;124m\"\u001b[39m, \u001b[38;5;28;01mNone\u001b[39;00m))\n",
      "File \u001b[1;32mc:\\Users\\FPTSHOP\\anaconda3\\envs\\py39webcrawl\\lib\\site-packages\\selenium\\webdriver\\remote\\errorhandler.py:232\u001b[0m, in \u001b[0;36mErrorHandler.check_response\u001b[1;34m(self, response)\u001b[0m\n\u001b[0;32m    231\u001b[0m     \u001b[38;5;28;01mraise\u001b[39;00m exception_class(message, screen, stacktrace, alert_text)  \u001b[38;5;66;03m# type: ignore[call-arg]  # mypy is not smart enough here\u001b[39;00m\n\u001b[1;32m--> 232\u001b[0m \u001b[38;5;28;01mraise\u001b[39;00m exception_class(message, screen, stacktrace)\n",
      "\u001b[1;31mNoSuchElementException\u001b[0m: Message: no such element: Unable to locate element: {\"method\":\"xpath\",\"selector\":\"/html/body/section/div[2]/div[1]/div[11]/div[2]/div/div/div[6]/div/a\"}\n  (Session info: chrome=134.0.6998.118); For documentation on this error, please visit: https://www.selenium.dev/documentation/webdriver/troubleshooting/errors#no-such-element-exception\nStacktrace:\n\tGetHandleVerifier [0x00007FF79DEF4C25+3179557]\n\t(No symbol) [0x00007FF79DB588A0]\n\t(No symbol) [0x00007FF79D9E91CA]\n\t(No symbol) [0x00007FF79DA3FA67]\n\t(No symbol) [0x00007FF79DA3FC9C]\n\t(No symbol) [0x00007FF79DA93627]\n\t(No symbol) [0x00007FF79DA67C6F]\n\t(No symbol) [0x00007FF79DA902F3]\n\t(No symbol) [0x00007FF79DA67A03]\n\t(No symbol) [0x00007FF79DA306D0]\n\t(No symbol) [0x00007FF79DA31983]\n\tGetHandleVerifier [0x00007FF79DF567CD+3579853]\n\tGetHandleVerifier [0x00007FF79DF6D1D2+3672530]\n\tGetHandleVerifier [0x00007FF79DF62153+3627347]\n\tGetHandleVerifier [0x00007FF79DCC092A+868650]\n\t(No symbol) [0x00007FF79DB62FFF]\n\t(No symbol) [0x00007FF79DB5F4A4]\n\t(No symbol) [0x00007FF79DB5F646]\n\t(No symbol) [0x00007FF79DB4EAA9]\n\tBaseThreadInitThunk [0x00007FF9A047E8D7+23]\n\tRtlUserThreadStart [0x00007FF9A111BF6C+44]\n",
      "\nDuring handling of the above exception, another exception occurred:\n",
      "\u001b[1;31mNoSuchElementException\u001b[0m                    Traceback (most recent call last)",
      "Cell \u001b[1;32mIn[38], line 1\u001b[0m\n\u001b[1;32m----> 1\u001b[0m \u001b[43mgetReviewAll\u001b[49m\u001b[43m(\u001b[49m\u001b[43mproduct_list\u001b[49m\u001b[43m)\u001b[49m\n",
      "Cell \u001b[1;32mIn[37], line 78\u001b[0m, in \u001b[0;36mgetReviewAll\u001b[1;34m(product_list)\u001b[0m\n\u001b[0;32m     76\u001b[0m driver\u001b[38;5;241m.\u001b[39mback()\n\u001b[0;32m     77\u001b[0m sleep(\u001b[38;5;241m2\u001b[39m)\n\u001b[1;32m---> 78\u001b[0m listproduct_elm \u001b[38;5;241m=\u001b[39m \u001b[43mdriver\u001b[49m\u001b[38;5;241;43m.\u001b[39;49m\u001b[43mfind_element\u001b[49m\u001b[43m(\u001b[49m\u001b[43mBy\u001b[49m\u001b[38;5;241;43m.\u001b[39;49m\u001b[43mCLASS_NAME\u001b[49m\u001b[43m,\u001b[49m\u001b[43m \u001b[49m\u001b[38;5;124;43m'\u001b[39;49m\u001b[38;5;124;43mlistproduct\u001b[39;49m\u001b[38;5;124;43m'\u001b[39;49m\u001b[43m)\u001b[49m\n\u001b[0;32m     79\u001b[0m product_list \u001b[38;5;241m=\u001b[39m listproduct_elm\u001b[38;5;241m.\u001b[39mfind_elements(By\u001b[38;5;241m.\u001b[39mCLASS_NAME, \u001b[38;5;124m'\u001b[39m\u001b[38;5;124mitem\u001b[39m\u001b[38;5;124m'\u001b[39m)\n",
      "File \u001b[1;32mc:\\Users\\FPTSHOP\\anaconda3\\envs\\py39webcrawl\\lib\\site-packages\\selenium\\webdriver\\remote\\webdriver.py:898\u001b[0m, in \u001b[0;36mWebDriver.find_element\u001b[1;34m(self, by, value)\u001b[0m\n\u001b[0;32m    895\u001b[0m         \u001b[38;5;28;01mraise\u001b[39;00m NoSuchElementException(\u001b[38;5;124mf\u001b[39m\u001b[38;5;124m\"\u001b[39m\u001b[38;5;124mCannot locate relative element with: \u001b[39m\u001b[38;5;132;01m{\u001b[39;00mby\u001b[38;5;241m.\u001b[39mroot\u001b[38;5;132;01m}\u001b[39;00m\u001b[38;5;124m\"\u001b[39m)\n\u001b[0;32m    896\u001b[0m     \u001b[38;5;28;01mreturn\u001b[39;00m elements[\u001b[38;5;241m0\u001b[39m]\n\u001b[1;32m--> 898\u001b[0m \u001b[38;5;28;01mreturn\u001b[39;00m \u001b[38;5;28;43mself\u001b[39;49m\u001b[38;5;241;43m.\u001b[39;49m\u001b[43mexecute\u001b[49m\u001b[43m(\u001b[49m\u001b[43mCommand\u001b[49m\u001b[38;5;241;43m.\u001b[39;49m\u001b[43mFIND_ELEMENT\u001b[49m\u001b[43m,\u001b[49m\u001b[43m \u001b[49m\u001b[43m{\u001b[49m\u001b[38;5;124;43m\"\u001b[39;49m\u001b[38;5;124;43musing\u001b[39;49m\u001b[38;5;124;43m\"\u001b[39;49m\u001b[43m:\u001b[49m\u001b[43m \u001b[49m\u001b[43mby\u001b[49m\u001b[43m,\u001b[49m\u001b[43m \u001b[49m\u001b[38;5;124;43m\"\u001b[39;49m\u001b[38;5;124;43mvalue\u001b[39;49m\u001b[38;5;124;43m\"\u001b[39;49m\u001b[43m:\u001b[49m\u001b[43m \u001b[49m\u001b[43mvalue\u001b[49m\u001b[43m}\u001b[49m\u001b[43m)\u001b[49m[\u001b[38;5;124m\"\u001b[39m\u001b[38;5;124mvalue\u001b[39m\u001b[38;5;124m\"\u001b[39m]\n",
      "File \u001b[1;32mc:\\Users\\FPTSHOP\\anaconda3\\envs\\py39webcrawl\\lib\\site-packages\\selenium\\webdriver\\remote\\webdriver.py:429\u001b[0m, in \u001b[0;36mWebDriver.execute\u001b[1;34m(self, driver_command, params)\u001b[0m\n\u001b[0;32m    427\u001b[0m response \u001b[38;5;241m=\u001b[39m \u001b[38;5;28mself\u001b[39m\u001b[38;5;241m.\u001b[39mcommand_executor\u001b[38;5;241m.\u001b[39mexecute(driver_command, params)\n\u001b[0;32m    428\u001b[0m \u001b[38;5;28;01mif\u001b[39;00m response:\n\u001b[1;32m--> 429\u001b[0m     \u001b[38;5;28;43mself\u001b[39;49m\u001b[38;5;241;43m.\u001b[39;49m\u001b[43merror_handler\u001b[49m\u001b[38;5;241;43m.\u001b[39;49m\u001b[43mcheck_response\u001b[49m\u001b[43m(\u001b[49m\u001b[43mresponse\u001b[49m\u001b[43m)\u001b[49m\n\u001b[0;32m    430\u001b[0m     response[\u001b[38;5;124m\"\u001b[39m\u001b[38;5;124mvalue\u001b[39m\u001b[38;5;124m\"\u001b[39m] \u001b[38;5;241m=\u001b[39m \u001b[38;5;28mself\u001b[39m\u001b[38;5;241m.\u001b[39m_unwrap_value(response\u001b[38;5;241m.\u001b[39mget(\u001b[38;5;124m\"\u001b[39m\u001b[38;5;124mvalue\u001b[39m\u001b[38;5;124m\"\u001b[39m, \u001b[38;5;28;01mNone\u001b[39;00m))\n\u001b[0;32m    431\u001b[0m     \u001b[38;5;28;01mreturn\u001b[39;00m response\n",
      "File \u001b[1;32mc:\\Users\\FPTSHOP\\anaconda3\\envs\\py39webcrawl\\lib\\site-packages\\selenium\\webdriver\\remote\\errorhandler.py:232\u001b[0m, in \u001b[0;36mErrorHandler.check_response\u001b[1;34m(self, response)\u001b[0m\n\u001b[0;32m    230\u001b[0m         alert_text \u001b[38;5;241m=\u001b[39m value[\u001b[38;5;124m\"\u001b[39m\u001b[38;5;124malert\u001b[39m\u001b[38;5;124m\"\u001b[39m]\u001b[38;5;241m.\u001b[39mget(\u001b[38;5;124m\"\u001b[39m\u001b[38;5;124mtext\u001b[39m\u001b[38;5;124m\"\u001b[39m)\n\u001b[0;32m    231\u001b[0m     \u001b[38;5;28;01mraise\u001b[39;00m exception_class(message, screen, stacktrace, alert_text)  \u001b[38;5;66;03m# type: ignore[call-arg]  # mypy is not smart enough here\u001b[39;00m\n\u001b[1;32m--> 232\u001b[0m \u001b[38;5;28;01mraise\u001b[39;00m exception_class(message, screen, stacktrace)\n",
      "\u001b[1;31mNoSuchElementException\u001b[0m: Message: no such element: Unable to locate element: {\"method\":\"css selector\",\"selector\":\".listproduct\"}\n  (Session info: chrome=134.0.6998.118); For documentation on this error, please visit: https://www.selenium.dev/documentation/webdriver/troubleshooting/errors#no-such-element-exception\nStacktrace:\n\tGetHandleVerifier [0x00007FF79DEF4C25+3179557]\n\t(No symbol) [0x00007FF79DB588A0]\n\t(No symbol) [0x00007FF79D9E91CA]\n\t(No symbol) [0x00007FF79DA3FA67]\n\t(No symbol) [0x00007FF79DA3FC9C]\n\t(No symbol) [0x00007FF79DA93627]\n\t(No symbol) [0x00007FF79DA67C6F]\n\t(No symbol) [0x00007FF79DA902F3]\n\t(No symbol) [0x00007FF79DA67A03]\n\t(No symbol) [0x00007FF79DA306D0]\n\t(No symbol) [0x00007FF79DA31983]\n\tGetHandleVerifier [0x00007FF79DF567CD+3579853]\n\tGetHandleVerifier [0x00007FF79DF6D1D2+3672530]\n\tGetHandleVerifier [0x00007FF79DF62153+3627347]\n\tGetHandleVerifier [0x00007FF79DCC092A+868650]\n\t(No symbol) [0x00007FF79DB62FFF]\n\t(No symbol) [0x00007FF79DB5F4A4]\n\t(No symbol) [0x00007FF79DB5F646]\n\t(No symbol) [0x00007FF79DB4EAA9]\n\tBaseThreadInitThunk [0x00007FF9A047E8D7+23]\n\tRtlUserThreadStart [0x00007FF9A111BF6C+44]\n"
     ]
    }
   ],
   "source": [
    "getReviewAll(product_list)"
   ]
  },
  {
   "cell_type": "code",
   "execution_count": 39,
   "metadata": {},
   "outputs": [],
   "source": [
    "df = pd.DataFrame(all_reviews)\n",
    "df.to_csv('D:\\CrawlData\\Sentiment_Review\\data\\cmt_backup_charger_continute_1.csv', index=False)"
   ]
  }
 ],
 "metadata": {
  "kernelspec": {
   "display_name": "py39webcrawl",
   "language": "python",
   "name": "python3"
  },
  "language_info": {
   "codemirror_mode": {
    "name": "ipython",
    "version": 3
   },
   "file_extension": ".py",
   "mimetype": "text/x-python",
   "name": "python",
   "nbconvert_exporter": "python",
   "pygments_lexer": "ipython3",
   "version": "3.9.21"
  }
 },
 "nbformat": 4,
 "nbformat_minor": 2
}
